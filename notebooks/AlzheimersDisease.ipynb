{
 "cells": [
  {
   "cell_type": "code",
   "execution_count": null,
   "id": "6997652d",
   "metadata": {},
   "outputs": [],
   "source": [
    "import os\n",
    "\n",
    "import polars as pl\n",
    "import torch\n",
    "from sklearn.model_selection import train_test_split\n",
    "\n",
    "from src.data.preprocessing.preprocessor import Preprocessor, RuleTransform\n",
    "from src.data.torch_tabular_dataset import TorchTabularDataset\n",
    "from src.experiments.utils import (\n",
    "    make_experiment_binary_perceptrone,\n",
    "    make_experiments_binary_perceptrone,\n",
    ")\n",
    "\n",
    "os.environ[\"CUBLAS_WORKSPACE_CONFIG\"] = \":16:8\"\n",
    "\n",
    "RANDOM_SEED = 42\n",
    "torch.use_deterministic_algorithms(True)\n",
    "torch.backends.cudnn.benchmark = False"
   ]
  },
  {
   "cell_type": "code",
   "execution_count": null,
   "id": "2bde0c0a",
   "metadata": {},
   "outputs": [],
   "source": [
    "preprocessor = Preprocessor.from_rules(\n",
    "    RuleTransform(\n",
    "        transformer=\"BinaryTarget\",\n",
    "        columns=[\n",
    "            \"Diagnosis\",\n",
    "        ],\n",
    "    ),\n",
    "    RuleTransform(\n",
    "        transformer=\"NumericFeature\",\n",
    "        columns=[\n",
    "            \"Age\",\n",
    "            \"Ethnicity\",\n",
    "            \"EducationLevel\",\n",
    "            \"BMI\",\n",
    "            \"AlcoholConsumption\",\n",
    "            \"PhysicalActivity\",\n",
    "            \"DietQuality\",\n",
    "            \"SleepQuality\",\n",
    "            \"SystolicBP\",\n",
    "            \"DiastolicBP\",\n",
    "            \"CholesterolTotal\",\n",
    "            \"CholesterolLDL\",\n",
    "            \"CholesterolHDL\",\n",
    "            \"CholesterolTriglycerides\",\n",
    "            \"MMSE\",\n",
    "            \"FunctionalAssessment\",\n",
    "            \"ADL\",\n",
    "            \"Gender\",\n",
    "            \"Smoking\",\n",
    "            \"FamilyHistoryAlzheimers\",\n",
    "            \"CardiovascularDisease\",\n",
    "            \"Diabetes\",\n",
    "            \"Depression\",\n",
    "            \"HeadInjury\",\n",
    "            \"Hypertension\",\n",
    "            \"MemoryComplaints\",\n",
    "            \"BehavioralProblems\",\n",
    "            \"Confusion\",\n",
    "            \"Disorientation\",\n",
    "            \"PersonalityChanges\",\n",
    "            \"DifficultyCompletingTasks\",\n",
    "            \"Forgetfulness\",\n",
    "        ],\n",
    "    ),\n",
    ")"
   ]
  },
  {
   "cell_type": "code",
   "execution_count": null,
   "id": "c0bc45b6",
   "metadata": {},
   "outputs": [],
   "source": [
    "df = pl.read_csv(\"../data/alzheimers_disease_data.csv\")\n",
    "df_train, df_test = train_test_split(df, test_size=0.2, random_state=RANDOM_SEED)\n",
    "\n",
    "\n",
    "df_train_transformed = preprocessor.fit_transform(data=df_train)\n",
    "df_test_transformed = preprocessor.transform(data=df_test)\n",
    "\n",
    "dataset_train = TorchTabularDataset(\n",
    "    df=df_train_transformed,\n",
    "    metadata=preprocessor.metadata,\n",
    ").cuda()\n",
    "dataset_test = TorchTabularDataset(\n",
    "    df=df_test_transformed,\n",
    "    metadata=preprocessor.metadata,\n",
    ").cuda()"
   ]
  },
  {
   "cell_type": "code",
   "execution_count": null,
   "id": "f0a49465",
   "metadata": {},
   "outputs": [],
   "source": [
    "result = make_experiment_binary_perceptrone(\n",
    "    dataset_train=dataset_train,\n",
    "    dataset_test=dataset_test,\n",
    "    dim_hidden=20,\n",
    "    n_hidden=1,\n",
    "    weight_decays_classic=[0, 0.0001, 0.001, 0.01, 0.1],\n",
    "    batch_size_inference_bayesian=64,\n",
    "    sample_size_inference_bayesian=1000,\n",
    "    random_seed=RANDOM_SEED,\n",
    "    log_loss_init=False,\n",
    "    log_loss_train=False,\n",
    ")"
   ]
  },
  {
   "cell_type": "code",
   "execution_count": null,
   "id": "77789ad4",
   "metadata": {},
   "outputs": [],
   "source": [
    "result"
   ]
  },
  {
   "cell_type": "code",
   "execution_count": null,
   "id": "afec7f7e",
   "metadata": {},
   "outputs": [],
   "source": [
    "make_experiments_binary_perceptrone(\n",
    "    path_to_save=\"../experiments/alzheimers_disease/\",\n",
    "    dims_hidden=list(range(1, 65)),\n",
    "    dataset_train=dataset_train,\n",
    "    dataset_test=dataset_test,\n",
    "    n_hidden=1,\n",
    "    weight_decays_classic=[0, 0.0001, 0.001, 0.01, 0.1],\n",
    "    batch_size_inference_bayesian=64,\n",
    "    sample_size_inference_bayesian=1000,\n",
    "    random_seed=RANDOM_SEED,\n",
    ")"
   ]
  }
 ],
 "metadata": {
  "kernelspec": {
   "display_name": ".venv",
   "language": "python",
   "name": "python3"
  },
  "language_info": {
   "codemirror_mode": {
    "name": "ipython",
    "version": 3
   },
   "file_extension": ".py",
   "mimetype": "text/x-python",
   "name": "python",
   "nbconvert_exporter": "python",
   "pygments_lexer": "ipython3",
   "version": "3.11.12"
  }
 },
 "nbformat": 4,
 "nbformat_minor": 5
}
