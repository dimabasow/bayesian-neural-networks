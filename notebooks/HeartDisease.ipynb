{
 "cells": [
  {
   "cell_type": "code",
   "execution_count": 4,
   "id": "bdb2638c",
   "metadata": {},
   "outputs": [],
   "source": [
    "import os\n",
    "\n",
    "import polars as pl\n",
    "import torch\n",
    "from sklearn.model_selection import train_test_split\n",
    "\n",
    "from src.data.preprocessing.preprocessor import Preprocessor, RuleTransform\n",
    "from src.data.torch_tabular_dataset import TorchTabularDataset\n",
    "from src.experiments.utils import (\n",
    "    make_experiment_binary_perceptrone,\n",
    "    make_experiments_binary_perceptrone,\n",
    "    polars_dict_mapper,\n",
    ")\n",
    "\n",
    "os.environ[\"CUBLAS_WORKSPACE_CONFIG\"] = \":16:8\"\n",
    "\n",
    "RANDOM_SEED = 0\n",
    "torch.use_deterministic_algorithms(True)\n",
    "torch.backends.cudnn.benchmark = False"
   ]
  },
  {
   "cell_type": "code",
   "execution_count": 5,
   "id": "f89d13d9",
   "metadata": {},
   "outputs": [],
   "source": [
    "def prepare_heart_dataset(df: pl.DataFrame) -> pl.DataFrame:\n",
    "    map_dict = {\n",
    "        \"AgeCategory\": {\n",
    "            \"18-24\": 0,\n",
    "            \"25-29\": 1,\n",
    "            \"30-34\": 2,\n",
    "            \"35-39\": 3,\n",
    "            \"40-44\": 4,\n",
    "            \"45-49\": 5,\n",
    "            \"50-54\": 6,\n",
    "            \"55-59\": 7,\n",
    "            \"60-64\": 8,\n",
    "            \"65-69\": 9,\n",
    "            \"70-74\": 10,\n",
    "            \"75-79\": 11,\n",
    "            \"80 or older\": 12,\n",
    "        },\n",
    "        \"GenHealth\": {\n",
    "            \"Poor\": 0,\n",
    "            \"Fair\": 1,\n",
    "            \"Good\": 2,\n",
    "            \"Very good\": 3,\n",
    "            \"Excellent\": 4,\n",
    "        },\n",
    "    }\n",
    "    df = polars_dict_mapper(df=df, map_dict=map_dict)\n",
    "    return df"
   ]
  },
  {
   "cell_type": "code",
   "execution_count": 6,
   "id": "05157632",
   "metadata": {},
   "outputs": [],
   "source": [
    "preprocessor = Preprocessor.from_rules(\n",
    "    RuleTransform(\n",
    "        transformer=\"BinaryTarget\",\n",
    "        columns=[\n",
    "            \"HeartDisease\",\n",
    "        ],\n",
    "    ),\n",
    "    RuleTransform(\n",
    "        transformer=\"FeaturePowerTransformer\",\n",
    "        columns=[\n",
    "            \"BMI\",\n",
    "            \"PhysicalHealth\",\n",
    "            \"MentalHealth\",\n",
    "            \"AgeCategory\",\n",
    "            \"GenHealth\",\n",
    "            \"SleepTime\",\n",
    "        ],\n",
    "    ),\n",
    "    RuleTransform(\n",
    "        transformer=\"BinaryEncoder\",\n",
    "        columns=[\n",
    "            \"Smoking\",\n",
    "            \"AlcoholDrinking\",\n",
    "            \"Stroke\",\n",
    "            \"DiffWalking\",\n",
    "            \"Sex\",\n",
    "            \"Diabetic\",\n",
    "            \"PhysicalActivity\",\n",
    "            \"Asthma\",\n",
    "            \"KidneyDisease\",\n",
    "            \"SkinCancer\",\n",
    "        ],\n",
    "    ),\n",
    "    RuleTransform(\n",
    "        transformer=\"OneHotEncoder\",\n",
    "        columns=[\n",
    "            \"Race\",\n",
    "        ],\n",
    "    ),\n",
    ")"
   ]
  },
  {
   "cell_type": "code",
   "execution_count": 7,
   "id": "46493cb7",
   "metadata": {},
   "outputs": [],
   "source": [
    "df = pl.read_csv(\"../data/heart_2020_cleaned.csv\")\n",
    "df_train, df_test = train_test_split(df, test_size=0.2, random_state=RANDOM_SEED)\n",
    "\n",
    "df_prepared_train = prepare_heart_dataset(df=df_train)\n",
    "df_prepared_test = prepare_heart_dataset(df=df_test)\n",
    "\n",
    "\n",
    "df_train_transformed = preprocessor.fit_transform(data=df_prepared_train)\n",
    "df_test_transformed = preprocessor.transform(data=df_prepared_test)\n",
    "\n",
    "dataset_train = TorchTabularDataset(\n",
    "    df=df_train_transformed,\n",
    "    metadata=preprocessor.metadata,\n",
    ").cuda()\n",
    "dataset_test = TorchTabularDataset(\n",
    "    df=df_test_transformed,\n",
    "    metadata=preprocessor.metadata,\n",
    ").cuda()"
   ]
  },
  {
   "cell_type": "code",
   "execution_count": 8,
   "id": "3f59b997",
   "metadata": {},
   "outputs": [],
   "source": [
    "result = make_experiment_binary_perceptrone(\n",
    "    dataset_train=dataset_train,\n",
    "    dataset_test=dataset_test,\n",
    "    dim_hidden=32,\n",
    "    n_hidden=1,\n",
    "    weight_decays_classic=[0, 0.0001, 0.001, 0.01, 0.1],\n",
    "    batch_size_inference_bayesian=2048,\n",
    "    sample_size_inference_bayesian=1000,\n",
    "    random_seed=RANDOM_SEED,\n",
    ")"
   ]
  },
  {
   "cell_type": "code",
   "execution_count": 9,
   "id": "aa751d09",
   "metadata": {},
   "outputs": [
    {
     "data": {
      "text/plain": [
       "{'bayesian': {'roc_auc_train': 0.8424682222178626,\n",
       "  'roc_auc_test': 0.840219151184615},\n",
       " 'classic_0': {'roc_auc_train': 0.8492225907709913,\n",
       "  'roc_auc_test': 0.8405329316551737},\n",
       " 'classic_0.0001': {'roc_auc_train': 0.8483359844089937,\n",
       "  'roc_auc_test': 0.842814271756086},\n",
       " 'classic_0.001': {'roc_auc_train': 0.8445668645889256,\n",
       "  'roc_auc_test': 0.8417685204038678},\n",
       " 'classic_0.01': {'roc_auc_train': 0.8383939530915163,\n",
       "  'roc_auc_test': 0.836352470840519},\n",
       " 'classic_0.1': {'roc_auc_train': 0.8103438090032554,\n",
       "  'roc_auc_test': 0.8090572063811872}}"
      ]
     },
     "execution_count": 9,
     "metadata": {},
     "output_type": "execute_result"
    }
   ],
   "source": [
    "result"
   ]
  },
  {
   "cell_type": "code",
   "execution_count": null,
   "id": "5c865d50",
   "metadata": {},
   "outputs": [],
   "source": [
    "make_experiments_binary_perceptrone(\n",
    "    path_to_save=\"../experiments/heart\",\n",
    "    dims_hidden=list(range(1, 129)),\n",
    "    dataset_train=dataset_train,\n",
    "    dataset_test=dataset_test,\n",
    "    n_hidden=2,\n",
    "    weight_decays_classic=[0, 0.0001, 0.001, 0.01, 0.1],\n",
    "    batch_size_inference_bayesian=2048,\n",
    "    sample_size_inference_bayesian=1000,\n",
    "    random_seed=RANDOM_SEED,\n",
    ")"
   ]
  }
 ],
 "metadata": {
  "kernelspec": {
   "display_name": ".venv",
   "language": "python",
   "name": "python3"
  },
  "language_info": {
   "codemirror_mode": {
    "name": "ipython",
    "version": 3
   },
   "file_extension": ".py",
   "mimetype": "text/x-python",
   "name": "python",
   "nbconvert_exporter": "python",
   "pygments_lexer": "ipython3",
   "version": "3.11.12"
  }
 },
 "nbformat": 4,
 "nbformat_minor": 5
}
