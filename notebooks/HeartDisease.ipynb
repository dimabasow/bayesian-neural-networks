{
 "cells": [
  {
   "cell_type": "code",
   "execution_count": 1,
   "id": "bdb2638c",
   "metadata": {},
   "outputs": [],
   "source": [
    "import os\n",
    "import random\n",
    "from typing import Dict\n",
    "\n",
    "import numpy as np\n",
    "import polars as pl\n",
    "import torch\n",
    "from sklearn.metrics import roc_auc_score\n",
    "from sklearn.model_selection import train_test_split\n",
    "\n",
    "from src.data.preprocessing.preprocessor import Preprocessor, RuleTransform\n",
    "from src.data.torch_tabular_dataset import TorchTabularDataset\n",
    "from src.nn import BayesianBinaryPerceptrone\n",
    "\n",
    "os.environ[\"CUBLAS_WORKSPACE_CONFIG\"] = \":16:8\"\n",
    "\n",
    "RANDOM_SEED = 0\n",
    "torch.random.manual_seed(RANDOM_SEED)\n",
    "random.seed(RANDOM_SEED)\n",
    "np.random.seed(RANDOM_SEED)\n",
    "torch.use_deterministic_algorithms(True)\n",
    "torch.backends.cudnn.benchmark = False"
   ]
  },
  {
   "cell_type": "code",
   "execution_count": 2,
   "id": "09803d40",
   "metadata": {},
   "outputs": [],
   "source": [
    "def polars_dict_mapper(df: pl.DataFrame, map_dict: Dict) -> pl.DataFrame:\n",
    "    rules = []\n",
    "    for column in map_dict:\n",
    "        map_dict_col: Dict = map_dict[column]\n",
    "        rule = None\n",
    "        for key, value in map_dict_col.items():\n",
    "            if rule is None:\n",
    "                rule = pl.when(pl.col(column) == key).then(value)\n",
    "            else:\n",
    "                rule = rule.when(pl.col(column) == key).then(value)\n",
    "        rule = rule.alias(column)\n",
    "        rules.append(rule)\n",
    "    df = df.with_columns(*rules)\n",
    "    return df\n",
    "\n",
    "\n",
    "def gini_score(\n",
    "    y_true,\n",
    "    y_score,\n",
    ") -> np.float64:\n",
    "    return (roc_auc_score(y_true=y_true, y_score=y_score) - 0.5) * 2"
   ]
  },
  {
   "cell_type": "code",
   "execution_count": 3,
   "id": "f89d13d9",
   "metadata": {},
   "outputs": [],
   "source": [
    "def prepare_heart_dataset(df: pl.DataFrame) -> pl.DataFrame:\n",
    "    map_dict = {\n",
    "        \"AgeCategory\": {\n",
    "            \"18-24\": 0,\n",
    "            \"25-29\": 1,\n",
    "            \"30-34\": 2,\n",
    "            \"35-39\": 3,\n",
    "            \"40-44\": 4,\n",
    "            \"45-49\": 5,\n",
    "            \"50-54\": 6,\n",
    "            \"55-59\": 7,\n",
    "            \"60-64\": 8,\n",
    "            \"65-69\": 9,\n",
    "            \"70-74\": 10,\n",
    "            \"75-79\": 11,\n",
    "            \"80 or older\": 12,\n",
    "        },\n",
    "        \"GenHealth\": {\n",
    "            \"Poor\": 0,\n",
    "            \"Fair\": 1,\n",
    "            \"Good\": 2,\n",
    "            \"Very good\": 3,\n",
    "            \"Excellent\": 4,\n",
    "        },\n",
    "    }\n",
    "    df = polars_dict_mapper(df=df, map_dict=map_dict)\n",
    "    return df"
   ]
  },
  {
   "cell_type": "code",
   "execution_count": 4,
   "id": "05157632",
   "metadata": {},
   "outputs": [],
   "source": [
    "preprocessor = Preprocessor.from_rules(\n",
    "    RuleTransform(\n",
    "        transformer=\"BinaryTarget\",\n",
    "        columns=[\n",
    "            \"HeartDisease\",\n",
    "        ],\n",
    "    ),\n",
    "    RuleTransform(\n",
    "        transformer=\"FeaturePowerTransformer\",\n",
    "        columns=[\n",
    "            \"BMI\",\n",
    "            \"PhysicalHealth\",\n",
    "            \"MentalHealth\",\n",
    "            \"AgeCategory\",\n",
    "            \"GenHealth\",\n",
    "            \"SleepTime\",\n",
    "        ],\n",
    "    ),\n",
    "    RuleTransform(\n",
    "        transformer=\"BinaryEncoder\",\n",
    "        columns=[\n",
    "            \"Smoking\",\n",
    "            \"AlcoholDrinking\",\n",
    "            \"Stroke\",\n",
    "            \"DiffWalking\",\n",
    "            \"Sex\",\n",
    "            \"Diabetic\",\n",
    "            \"PhysicalActivity\",\n",
    "            \"Asthma\",\n",
    "            \"KidneyDisease\",\n",
    "            \"SkinCancer\",\n",
    "        ],\n",
    "    ),\n",
    "    RuleTransform(\n",
    "        transformer=\"OneHotEncoder\",\n",
    "        columns=[\n",
    "            \"Race\",\n",
    "        ],\n",
    "    ),\n",
    ")"
   ]
  },
  {
   "cell_type": "code",
   "execution_count": 5,
   "id": "46493cb7",
   "metadata": {},
   "outputs": [],
   "source": [
    "df = pl.read_csv(\"../data/heart_2020_cleaned.csv\")\n",
    "df_train, df_test = train_test_split(\n",
    "    df, test_size=0.2, random_state=RANDOM_SEED)\n",
    "\n",
    "df_prepared_train = prepare_heart_dataset(df=df_train)\n",
    "df_prepared_test = prepare_heart_dataset(df=df_test)\n",
    "\n",
    "\n",
    "df_train_transformed = preprocessor.fit_transform(data=df_prepared_train)\n",
    "df_test_transformed = preprocessor.transform(data=df_prepared_test)\n",
    "\n",
    "dataset_train = TorchTabularDataset(\n",
    "    df=df_train_transformed,\n",
    "    metadata=preprocessor.metadata,\n",
    ").cuda()\n",
    "dataset_test = TorchTabularDataset(\n",
    "    df=df_test_transformed,\n",
    "    metadata=preprocessor.metadata,\n",
    ").cuda()"
   ]
  },
  {
   "cell_type": "code",
   "execution_count": 6,
   "id": "3d073ee0",
   "metadata": {},
   "outputs": [],
   "source": [
    "model = BayesianBinaryPerceptrone(\n",
    "    name_out=\"p_heart_disease\",\n",
    "    name_target=\"HeartDisease_BinaryTarget_No_Yes\",\n",
    "    dim_in=dataset_train.data.features_numeric.shape[-1],\n",
    "    dims_hidden=[\n",
    "        32,\n",
    "    ],\n",
    ").cuda()"
   ]
  },
  {
   "cell_type": "code",
   "execution_count": 7,
   "id": "fece249a",
   "metadata": {},
   "outputs": [
    {
     "name": "stderr",
     "output_type": "stream",
     "text": [
      "/workspaces/bayesian-neural-networks/src/nn/base/bayesian_neural_network.py:76: UserWarning: Converting a tensor with requires_grad=True to a scalar may lead to unexpected behavior.\n",
      "Consider using tensor.detach() first. (Triggered internally at /pytorch/aten/src/ATen/native/Scalar.cpp:22.)\n",
      "  metrics.append(kl.item())\n"
     ]
    }
   ],
   "source": [
    "metrics_init = model.init(\n",
    "    features=dataset_train.data.features_numeric,\n",
    "    num_epoch=1000,\n",
    ")"
   ]
  },
  {
   "cell_type": "code",
   "execution_count": 8,
   "id": "12bdb25c",
   "metadata": {},
   "outputs": [],
   "source": [
    "metrics_loss = []\n",
    "model.train()\n",
    "for epoch_num, batch in enumerate(\n",
    "    dataset_train.to_bathes(batch_size=None, shuffle=False, num_epochs=5_000)\n",
    "):\n",
    "    if epoch_num == 0:\n",
    "        optimizer = torch.optim.Adam(\n",
    "            model.parameters(), lr=0.01, weight_decay=0)\n",
    "    elif epoch_num == 1_000:\n",
    "        optimizer = torch.optim.Adam(\n",
    "            model.parameters(), lr=0.001, weight_decay=0)\n",
    "    elif epoch_num == 2_000:\n",
    "        optimizer = torch.optim.Adam(\n",
    "            model.parameters(), lr=0.005, weight_decay=0)\n",
    "    optimizer.zero_grad()\n",
    "    loss = model.loss(\n",
    "        features=batch.features_numeric,\n",
    "        target=batch.target,\n",
    "        train_size=len(dataset_train),\n",
    "    )\n",
    "    loss.backward()\n",
    "    optimizer.step()\n",
    "    metrics_loss.append(loss.item())"
   ]
  },
  {
   "cell_type": "code",
   "execution_count": 9,
   "id": "2aa3cac1",
   "metadata": {},
   "outputs": [],
   "source": [
    "result = {\n",
    "    \"score\": [],\n",
    "    \"target\": [],\n",
    "}\n",
    "model.eval()\n",
    "with torch.no_grad():\n",
    "    for batch in dataset_test.to_bathes(batch_size=2048, shuffle=False, num_epochs=1):\n",
    "        features = batch.features_numeric\n",
    "        target = batch.target[\"HeartDisease_BinaryTarget_No_Yes\"].value.int(\n",
    "        ).tolist()\n",
    "        score = (\n",
    "            model(\n",
    "                (\n",
    "                    features\n",
    "                    .view(1, *features.shape)\n",
    "                    .expand(1000, *features.shape)\n",
    "                )\n",
    "            )[\"p_heart_disease\"]\n",
    "            .mean(0)\n",
    "            .view(-1)\n",
    "            .tolist()\n",
    "        )\n",
    "\n",
    "        result[\"score\"].extend(score)\n",
    "        result[\"target\"].extend(target)\n",
    "df_result = pl.DataFrame(result)"
   ]
  },
  {
   "cell_type": "code",
   "execution_count": 10,
   "id": "87b2907f",
   "metadata": {},
   "outputs": [
    {
     "data": {
      "text/plain": [
       "np.float64(0.6850475100527473)"
      ]
     },
     "execution_count": 10,
     "metadata": {},
     "output_type": "execute_result"
    }
   ],
   "source": [
    "gini_score(y_score=df_result[\"score\"], y_true=df_result[\"target\"])"
   ]
  }
 ],
 "metadata": {
  "kernelspec": {
   "display_name": ".venv",
   "language": "python",
   "name": "python3"
  },
  "language_info": {
   "codemirror_mode": {
    "name": "ipython",
    "version": 3
   },
   "file_extension": ".py",
   "mimetype": "text/x-python",
   "name": "python",
   "nbconvert_exporter": "python",
   "pygments_lexer": "ipython3",
   "version": "3.11.12"
  }
 },
 "nbformat": 4,
 "nbformat_minor": 5
}
