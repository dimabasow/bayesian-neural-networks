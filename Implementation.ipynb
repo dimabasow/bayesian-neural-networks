{
 "cells": [
  {
   "cell_type": "markdown",
   "metadata": {},
   "source": [
    "Импорт библиотек"
   ]
  },
  {
   "cell_type": "code",
   "execution_count": 1,
   "metadata": {},
   "outputs": [],
   "source": [
    "from typing import Optional, Tuple, Literal, Iterable\n",
    "from abc import abstractmethod, ABC\n",
    "import copy\n",
    "import torch\n",
    "from torch import Tensor\n",
    "import pandas as pd\n",
    "import numpy as np\n",
    "from sklearn.model_selection import train_test_split\n",
    "from sklearn.ensemble import RandomForestClassifier, GradientBoostingClassifier\n",
    "from sklearn.neural_network import MLPClassifier\n",
    "from sklearn.metrics import roc_auc_score, accuracy_score\n",
    "from src.nn import BayesianModule, BayesianLinear, BayesianSequential, BayesianBinaryClassifier\n",
    "\n",
    "\n",
    "def gini_score(\n",
    "    y_true,\n",
    "    y_score,\n",
    ") -> np.float64:\n",
    "    return (roc_auc_score(y_true=y_true, y_score=y_score) - 0.5) * 2"
   ]
  },
  {
   "cell_type": "markdown",
   "metadata": {},
   "source": [
    "Чтение данных и разбиение на трейн и тест"
   ]
  },
  {
   "cell_type": "code",
   "execution_count": 2,
   "metadata": {},
   "outputs": [],
   "source": [
    "df = pd.read_csv(\"data/Cancer_Data.csv\").set_index(\"id\")\n",
    "df = df.loc[:, df.notna().all(axis=0)]\n",
    "df[\"is_M\"] = (df[\"diagnosis\"] == \"M\").astype(\"int\")\n",
    "df = df.drop(\"diagnosis\", axis=1)\n",
    "x = df.drop(\"is_M\", axis=1)\n",
    "y = df[\"is_M\"]\n",
    "\n",
    "x_train, x_test, y_train, y_test = train_test_split(x, y, test_size=0.2, random_state=0)\n",
    "\n",
    "x_mean = x_train.mean(axis=0)\n",
    "x_std = x_train.std(axis=0)\n",
    "\n",
    "x_train = (x_train - x_mean) / x_std\n",
    "x_test = (x_test - x_mean) / x_std"
   ]
  },
  {
   "cell_type": "markdown",
   "metadata": {},
   "source": [
    "Обучение модели"
   ]
  },
  {
   "cell_type": "code",
   "execution_count": 3,
   "metadata": {},
   "outputs": [],
   "source": [
    "x_train_tensor = torch.from_numpy(x_train.values).float().cuda()\n",
    "y_train_tensor = torch.from_numpy(y_train.values).view(-1, 1).float().cuda()"
   ]
  },
  {
   "cell_type": "code",
   "execution_count": 4,
   "metadata": {},
   "outputs": [],
   "source": [
    "model = BayesianBinaryClassifier(\n",
    "    dim_in=x_train.shape[-1],\n",
    "    dims_hidden=[30]*3,\n",
    "    f_act=\"ReLU\",\n",
    "    backbone=\"Perceptrone\",\n",
    "    # backbone=\"ResNet\",\n",
    "    batch_norm=True,\n",
    "    batch_penalty=True,\n",
    ").cuda()"
   ]
  },
  {
   "cell_type": "code",
   "execution_count": 5,
   "metadata": {},
   "outputs": [
    {
     "data": {
      "text/html": [
       "<div>\n",
       "<style scoped>\n",
       "    .dataframe tbody tr th:only-of-type {\n",
       "        vertical-align: middle;\n",
       "    }\n",
       "\n",
       "    .dataframe tbody tr th {\n",
       "        vertical-align: top;\n",
       "    }\n",
       "\n",
       "    .dataframe thead th {\n",
       "        text-align: right;\n",
       "    }\n",
       "</style>\n",
       "<table border=\"1\" class=\"dataframe\">\n",
       "  <thead>\n",
       "    <tr style=\"text-align: right;\">\n",
       "      <th></th>\n",
       "      <th>loss</th>\n",
       "      <th>p_item_average</th>\n",
       "    </tr>\n",
       "    <tr>\n",
       "      <th>epoch</th>\n",
       "      <th></th>\n",
       "      <th></th>\n",
       "    </tr>\n",
       "  </thead>\n",
       "  <tbody>\n",
       "    <tr>\n",
       "      <th>0</th>\n",
       "      <td>417.130249</td>\n",
       "      <td>0.000000</td>\n",
       "    </tr>\n",
       "    <tr>\n",
       "      <th>1</th>\n",
       "      <td>263.481995</td>\n",
       "      <td>0.000000</td>\n",
       "    </tr>\n",
       "    <tr>\n",
       "      <th>2</th>\n",
       "      <td>203.962448</td>\n",
       "      <td>0.000000</td>\n",
       "    </tr>\n",
       "    <tr>\n",
       "      <th>3</th>\n",
       "      <td>181.093430</td>\n",
       "      <td>0.000000</td>\n",
       "    </tr>\n",
       "    <tr>\n",
       "      <th>4</th>\n",
       "      <td>145.530121</td>\n",
       "      <td>0.000000</td>\n",
       "    </tr>\n",
       "    <tr>\n",
       "      <th>...</th>\n",
       "      <td>...</td>\n",
       "      <td>...</td>\n",
       "    </tr>\n",
       "    <tr>\n",
       "      <th>5995</th>\n",
       "      <td>0.159819</td>\n",
       "      <td>0.852298</td>\n",
       "    </tr>\n",
       "    <tr>\n",
       "      <th>5996</th>\n",
       "      <td>0.128554</td>\n",
       "      <td>0.879366</td>\n",
       "    </tr>\n",
       "    <tr>\n",
       "      <th>5997</th>\n",
       "      <td>0.137448</td>\n",
       "      <td>0.871580</td>\n",
       "    </tr>\n",
       "    <tr>\n",
       "      <th>5998</th>\n",
       "      <td>0.137084</td>\n",
       "      <td>0.871897</td>\n",
       "    </tr>\n",
       "    <tr>\n",
       "      <th>5999</th>\n",
       "      <td>0.152885</td>\n",
       "      <td>0.858228</td>\n",
       "    </tr>\n",
       "  </tbody>\n",
       "</table>\n",
       "<p>6000 rows × 2 columns</p>\n",
       "</div>"
      ],
      "text/plain": [
       "             loss  p_item_average\n",
       "epoch                            \n",
       "0      417.130249        0.000000\n",
       "1      263.481995        0.000000\n",
       "2      203.962448        0.000000\n",
       "3      181.093430        0.000000\n",
       "4      145.530121        0.000000\n",
       "...           ...             ...\n",
       "5995     0.159819        0.852298\n",
       "5996     0.128554        0.879366\n",
       "5997     0.137448        0.871580\n",
       "5998     0.137084        0.871897\n",
       "5999     0.152885        0.858228\n",
       "\n",
       "[6000 rows x 2 columns]"
      ]
     },
     "execution_count": 5,
     "metadata": {},
     "output_type": "execute_result"
    },
    {
     "data": {
      "image/png": "[encoded data removed]",
      "text/plain": [
       "<Figure size 640x480 with 1 Axes>"
      ]
     },
     "metadata": {},
     "output_type": "display_data"
    }
   ],
   "source": [
    "model.fit(\n",
    "    x=x_train_tensor,\n",
    "    y=y_train_tensor,\n",
    "    num_epoch=1_000,\n",
    "    lr=0.05,\n",
    ")\n",
    "model.fit(\n",
    "    x=x_train_tensor,\n",
    "    y=y_train_tensor,\n",
    "    num_epoch=2_000,\n",
    "    lr=0.01,\n",
    ")\n",
    "model.fit(\n",
    "    x=x_train_tensor,\n",
    "    y=y_train_tensor,\n",
    "    num_epoch=1_000,\n",
    "    lr=0.005,\n",
    ")\n",
    "model.fit(\n",
    "    x=x_train_tensor,\n",
    "    y=y_train_tensor,\n",
    "    num_epoch=1_000,\n",
    "    lr=0.001,\n",
    ")\n",
    "model.fit(\n",
    "    x=x_train_tensor,\n",
    "    y=y_train_tensor,\n",
    "    num_epoch=1_000,\n",
    "    lr=0.0001,\n",
    ")\n",
    "model.df_metrics[\"p_item_average\"].plot()\n",
    "model.df_metrics"
   ]
  },
  {
   "cell_type": "markdown",
   "metadata": {},
   "source": [
    "Предсказание на тесте.\n",
    "Каждый объект прогоняется через модель 5000"
   ]
  },
  {
   "cell_type": "code",
   "execution_count": 6,
   "metadata": {},
   "outputs": [],
   "source": [
    "model = model.eval().cpu()\n",
    "x_test_tensor = torch.from_numpy(x_test.values).float()\n",
    "y_test_tensor = torch.from_numpy(y_test.values).view(-1, 1).float()\n",
    "\n",
    "y_pred_test_tensor = torch.nn.Sigmoid()(model.eval()(x_test_tensor.expand(5000, *x_test_tensor.shape)))\n",
    "y_pred_test = y_pred_test_tensor.cpu().detach().numpy()"
   ]
  },
  {
   "cell_type": "markdown",
   "metadata": {},
   "source": [
    "Оценка результата работы на тесте"
   ]
  },
  {
   "cell_type": "code",
   "execution_count": 7,
   "metadata": {},
   "outputs": [
    {
     "data": {
      "text/plain": [
       "0.9736842105263158"
      ]
     },
     "execution_count": 7,
     "metadata": {},
     "output_type": "execute_result"
    }
   ],
   "source": [
    "accuracy_score(\n",
    "    y_true=y_test.values,\n",
    "    y_pred=y_pred_test.mean(axis=0).reshape(-1) > 0.5,\n",
    ")"
   ]
  },
  {
   "cell_type": "markdown",
   "metadata": {},
   "source": [
    "Сравнение модели со случайным лесом"
   ]
  },
  {
   "cell_type": "code",
   "execution_count": 8,
   "metadata": {},
   "outputs": [
    {
     "data": {
      "text/plain": [
       "0.9824561403508771"
      ]
     },
     "execution_count": 8,
     "metadata": {},
     "output_type": "execute_result"
    }
   ],
   "source": [
    "model_forest = RandomForestClassifier(n_estimators=500)\n",
    "model_forest.fit(X=x_train, y=y_train)\n",
    "y_pred_test_forest = model_forest.predict(X=x_test)\n",
    "\n",
    "accuracy_score(\n",
    "    y_true=y_test.values,\n",
    "    y_pred=model_forest.predict(X=x_test),\n",
    ")"
   ]
  },
  {
   "cell_type": "markdown",
   "metadata": {},
   "source": [
    "Сравнение модели с бустингом"
   ]
  },
  {
   "cell_type": "code",
   "execution_count": 9,
   "metadata": {},
   "outputs": [
    {
     "data": {
      "text/plain": [
       "0.956140350877193"
      ]
     },
     "execution_count": 9,
     "metadata": {},
     "output_type": "execute_result"
    }
   ],
   "source": [
    "model_boost = GradientBoostingClassifier()\n",
    "model_boost.fit(X=x_train, y=y_train)\n",
    "\n",
    "accuracy_score(\n",
    "    y_true=y_test.values,\n",
    "    y_pred=model_boost.predict(X=x_test),\n",
    ")"
   ]
  },
  {
   "cell_type": "markdown",
   "metadata": {},
   "source": [
    "Сравнение модели с перцептроном"
   ]
  },
  {
   "cell_type": "code",
   "execution_count": 10,
   "metadata": {},
   "outputs": [
    {
     "data": {
      "text/plain": [
       "0.9385964912280702"
      ]
     },
     "execution_count": 10,
     "metadata": {},
     "output_type": "execute_result"
    }
   ],
   "source": [
    "model_mlp = MLPClassifier(hidden_layer_sizes=[30] * 3, activation=\"relu\", max_iter=1000)\n",
    "model_mlp.fit(X=x_train, y=y_train)\n",
    "\n",
    "accuracy_score(\n",
    "    y_true=y_test.values,\n",
    "    y_pred=model_mlp.predict(X=x_test),\n",
    ")"
   ]
  }
 ],
 "metadata": {
  "kernelspec": {
   "display_name": "usr",
   "language": "python",
   "name": "python3"
  },
  "language_info": {
   "codemirror_mode": {
    "name": "ipython",
    "version": 3
   },
   "file_extension": ".py",
   "mimetype": "text/x-python",
   "name": "python",
   "nbconvert_exporter": "python",
   "pygments_lexer": "ipython3",
   "version": "3.12.7"
  }
 },
 "nbformat": 4,
 "nbformat_minor": 2
}
