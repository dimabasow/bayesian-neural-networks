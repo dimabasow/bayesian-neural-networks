{
 "cells": [
  {
   "cell_type": "markdown",
   "metadata": {},
   "source": [
    "Импорт библиотек"
   ]
  },
  {
   "cell_type": "code",
   "execution_count": 1,
   "metadata": {},
   "outputs": [],
   "source": [
    "from typing import Optional, Tuple, Literal, Iterable\n",
    "from abc import abstractmethod, ABC\n",
    "import copy\n",
    "import torch\n",
    "from torch import Tensor\n",
    "import pandas as pd\n",
    "from sklearn.model_selection import train_test_split\n",
    "from sklearn.ensemble import RandomForestClassifier, GradientBoostingClassifier\n",
    "from sklearn.neural_network import MLPClassifier\n",
    "from src.nn import BayesianModule, BayesianLinear, BayesianSequential, BayesianBinaryClassifier"
   ]
  },
  {
   "cell_type": "markdown",
   "metadata": {},
   "source": [
    "Чтение данных и разбиение на трейн и тест"
   ]
  },
  {
   "cell_type": "code",
   "execution_count": 2,
   "metadata": {},
   "outputs": [],
   "source": [
    "df = pd.read_csv(\"data/Cancer_Data.csv\").set_index(\"id\")\n",
    "df = df.loc[:, df.notna().all(axis=0)]\n",
    "df[\"is_M\"] = (df[\"diagnosis\"] == \"M\").astype(\"int\")\n",
    "df = df.drop(\"diagnosis\", axis=1)\n",
    "x = df.drop(\"is_M\", axis=1)\n",
    "y = df[\"is_M\"]\n",
    "\n",
    "x_train, x_test, y_train, y_test = train_test_split(x, y, test_size=0.2, random_state=0)"
   ]
  },
  {
   "cell_type": "markdown",
   "metadata": {},
   "source": [
    "Обучение модели"
   ]
  },
  {
   "cell_type": "code",
   "execution_count": 3,
   "metadata": {},
   "outputs": [],
   "source": [
    "x_train_tensor = torch.from_numpy(x_train.values).float().cuda()\n",
    "y_train_tensor = torch.from_numpy(y_train.values).view(-1, 1).float().cuda()"
   ]
  },
  {
   "cell_type": "code",
   "execution_count": 4,
   "metadata": {},
   "outputs": [
    {
     "data": {
      "text/plain": [
       "epoch\n",
       "0      381469.343750\n",
       "1      270675.687500\n",
       "2      153551.203125\n",
       "3      411188.843750\n",
       "4      223224.234375\n",
       "           ...      \n",
       "995     31681.498047\n",
       "996     32552.642578\n",
       "997     31085.779297\n",
       "998     29570.384766\n",
       "999     31424.996094\n",
       "Name: kl, Length: 1000, dtype: float64"
      ]
     },
     "execution_count": 4,
     "metadata": {},
     "output_type": "execute_result"
    },
    {
     "data": {
      "image/png": "[encoded data removed]",
      "text/plain": [
       "<Figure size 640x480 with 1 Axes>"
      ]
     },
     "metadata": {},
     "output_type": "display_data"
    }
   ],
   "source": [
    "model = BayesianBinaryClassifier(\n",
    "    dim_in=x_train.shape[-1],\n",
    "    dim_hidden=30,\n",
    "    n_layers=3,\n",
    "    lr=0.01,\n",
    "    f_act=\"LeakyReLU\",\n",
    "    backbone=\"Perceptrone\",\n",
    ").cuda()\n",
    "model.scale_shift_init(x=x_train_tensor)\n",
    "model.init(x=x_train_tensor, num_epoch=1_000)\n",
    "model.init_mode_off()\n",
    "model.df_metrics[\"kl\"].plot()\n",
    "model.df_metrics[\"kl\"].dropna()"
   ]
  },
  {
   "cell_type": "code",
   "execution_count": 5,
   "metadata": {},
   "outputs": [
    {
     "data": {
      "text/html": [
       "<div>\n",
       "<style scoped>\n",
       "    .dataframe tbody tr th:only-of-type {\n",
       "        vertical-align: middle;\n",
       "    }\n",
       "\n",
       "    .dataframe tbody tr th {\n",
       "        vertical-align: top;\n",
       "    }\n",
       "\n",
       "    .dataframe thead th {\n",
       "        text-align: right;\n",
       "    }\n",
       "</style>\n",
       "<table border=\"1\" class=\"dataframe\">\n",
       "  <thead>\n",
       "    <tr style=\"text-align: right;\">\n",
       "      <th></th>\n",
       "      <th>kl</th>\n",
       "      <th>loss</th>\n",
       "      <th>p_item_average</th>\n",
       "    </tr>\n",
       "    <tr>\n",
       "      <th>epoch</th>\n",
       "      <th></th>\n",
       "      <th></th>\n",
       "      <th></th>\n",
       "    </tr>\n",
       "  </thead>\n",
       "  <tbody>\n",
       "    <tr>\n",
       "      <th>0</th>\n",
       "      <td>381469.343750</td>\n",
       "      <td>NaN</td>\n",
       "      <td>NaN</td>\n",
       "    </tr>\n",
       "    <tr>\n",
       "      <th>1</th>\n",
       "      <td>270675.687500</td>\n",
       "      <td>NaN</td>\n",
       "      <td>NaN</td>\n",
       "    </tr>\n",
       "    <tr>\n",
       "      <th>2</th>\n",
       "      <td>153551.203125</td>\n",
       "      <td>NaN</td>\n",
       "      <td>NaN</td>\n",
       "    </tr>\n",
       "    <tr>\n",
       "      <th>3</th>\n",
       "      <td>411188.843750</td>\n",
       "      <td>NaN</td>\n",
       "      <td>NaN</td>\n",
       "    </tr>\n",
       "    <tr>\n",
       "      <th>4</th>\n",
       "      <td>223224.234375</td>\n",
       "      <td>NaN</td>\n",
       "      <td>NaN</td>\n",
       "    </tr>\n",
       "    <tr>\n",
       "      <th>...</th>\n",
       "      <td>...</td>\n",
       "      <td>...</td>\n",
       "      <td>...</td>\n",
       "    </tr>\n",
       "    <tr>\n",
       "      <th>30995</th>\n",
       "      <td>NaN</td>\n",
       "      <td>0.116504</td>\n",
       "      <td>0.890026</td>\n",
       "    </tr>\n",
       "    <tr>\n",
       "      <th>30996</th>\n",
       "      <td>NaN</td>\n",
       "      <td>0.162343</td>\n",
       "      <td>0.850150</td>\n",
       "    </tr>\n",
       "    <tr>\n",
       "      <th>30997</th>\n",
       "      <td>NaN</td>\n",
       "      <td>0.119108</td>\n",
       "      <td>0.887712</td>\n",
       "    </tr>\n",
       "    <tr>\n",
       "      <th>30998</th>\n",
       "      <td>NaN</td>\n",
       "      <td>0.134473</td>\n",
       "      <td>0.874177</td>\n",
       "    </tr>\n",
       "    <tr>\n",
       "      <th>30999</th>\n",
       "      <td>NaN</td>\n",
       "      <td>0.119233</td>\n",
       "      <td>0.887601</td>\n",
       "    </tr>\n",
       "  </tbody>\n",
       "</table>\n",
       "<p>31000 rows × 3 columns</p>\n",
       "</div>"
      ],
      "text/plain": [
       "                  kl      loss  p_item_average\n",
       "epoch                                         \n",
       "0      381469.343750       NaN             NaN\n",
       "1      270675.687500       NaN             NaN\n",
       "2      153551.203125       NaN             NaN\n",
       "3      411188.843750       NaN             NaN\n",
       "4      223224.234375       NaN             NaN\n",
       "...              ...       ...             ...\n",
       "30995            NaN  0.116504        0.890026\n",
       "30996            NaN  0.162343        0.850150\n",
       "30997            NaN  0.119108        0.887712\n",
       "30998            NaN  0.134473        0.874177\n",
       "30999            NaN  0.119233        0.887601\n",
       "\n",
       "[31000 rows x 3 columns]"
      ]
     },
     "execution_count": 5,
     "metadata": {},
     "output_type": "execute_result"
    },
    {
     "data": {
      "image/png": "[encoded data removed]",
      "text/plain": [
       "<Figure size 640x480 with 1 Axes>"
      ]
     },
     "metadata": {},
     "output_type": "display_data"
    }
   ],
   "source": [
    "model.fit(\n",
    "    x=x_train_tensor,\n",
    "    y=y_train_tensor,\n",
    "    num_epoch=30_000,\n",
    ")\n",
    "model.df_metrics[\"p_item_average\"].plot()\n",
    "model.df_metrics"
   ]
  },
  {
   "cell_type": "markdown",
   "metadata": {},
   "source": [
    "Предсказание на тесте.\n",
    "Каждый объект прогоняется через модель 5000"
   ]
  },
  {
   "cell_type": "code",
   "execution_count": 6,
   "metadata": {},
   "outputs": [],
   "source": [
    "model = model.eval().cpu()\n",
    "x_test_tensor = torch.from_numpy(x_test.values).float()\n",
    "y_test_tensor = torch.from_numpy(y_test.values).view(-1, 1).float()\n",
    "\n",
    "y_pred_test_tensor = torch.nn.Sigmoid()(model(x_test_tensor.expand(5000, *x_test_tensor.shape)))\n",
    "y_pred_test = y_pred_test_tensor.cpu().detach().numpy()"
   ]
  },
  {
   "cell_type": "markdown",
   "metadata": {},
   "source": [
    "Оценка результата работы на тесте"
   ]
  },
  {
   "cell_type": "code",
   "execution_count": 7,
   "metadata": {},
   "outputs": [
    {
     "data": {
      "text/plain": [
       "np.float64(0.9649122807017544)"
      ]
     },
     "execution_count": 7,
     "metadata": {},
     "output_type": "execute_result"
    }
   ],
   "source": [
    "((y_pred_test.mean(axis=0).reshape(-1) > 0.5).astype(\"int\") == y_test).sum() / len(y_test)"
   ]
  },
  {
   "cell_type": "markdown",
   "metadata": {},
   "source": [
    "Сравнение модели со случайным лесом"
   ]
  },
  {
   "cell_type": "code",
   "execution_count": 8,
   "metadata": {},
   "outputs": [
    {
     "data": {
      "text/plain": [
       "np.float64(0.956140350877193)"
      ]
     },
     "execution_count": 8,
     "metadata": {},
     "output_type": "execute_result"
    }
   ],
   "source": [
    "model_forest = RandomForestClassifier(n_estimators=500)\n",
    "model_forest.fit(X=x_train, y=y_train)\n",
    "y_pred_test_forest = model_forest.predict(X=x_test)\n",
    "\n",
    "(y_pred_test_forest == y_test).sum() / len(y_test)"
   ]
  },
  {
   "cell_type": "markdown",
   "metadata": {},
   "source": [
    "Сравнение модели с бустингом"
   ]
  },
  {
   "cell_type": "code",
   "execution_count": 9,
   "metadata": {},
   "outputs": [
    {
     "data": {
      "text/plain": [
       "np.float64(0.9736842105263158)"
      ]
     },
     "execution_count": 9,
     "metadata": {},
     "output_type": "execute_result"
    }
   ],
   "source": [
    "model_boost = GradientBoostingClassifier()\n",
    "model_boost.fit(X=x_train, y=y_train)\n",
    "y_pred_test_boost = model_boost.predict(X=x_test)\n",
    "\n",
    "(y_pred_test_boost == y_test).sum() / len(y_test)"
   ]
  },
  {
   "cell_type": "markdown",
   "metadata": {},
   "source": [
    "Сравнение модели с перцептроном"
   ]
  },
  {
   "cell_type": "code",
   "execution_count": 10,
   "metadata": {},
   "outputs": [
    {
     "data": {
      "text/plain": [
       "np.float64(0.9210526315789473)"
      ]
     },
     "execution_count": 10,
     "metadata": {},
     "output_type": "execute_result"
    }
   ],
   "source": [
    "model_mlp = MLPClassifier(hidden_layer_sizes=[10, 10, 10, 10], activation=\"relu\", max_iter=1000)\n",
    "model_mlp.fit(X=x_train, y=y_train)\n",
    "y_pred_test_mlp = model_mlp.predict(X=x_test)\n",
    "\n",
    "(y_pred_test_mlp == y_test).sum() / len(y_test)"
   ]
  }
 ],
 "metadata": {
  "kernelspec": {
   "display_name": "usr",
   "language": "python",
   "name": "python3"
  },
  "language_info": {
   "codemirror_mode": {
    "name": "ipython",
    "version": 3
   },
   "file_extension": ".py",
   "mimetype": "text/x-python",
   "name": "python",
   "nbconvert_exporter": "python",
   "pygments_lexer": "ipython3",
   "version": "3.12.7"
  }
 },
 "nbformat": 4,
 "nbformat_minor": 2
}
