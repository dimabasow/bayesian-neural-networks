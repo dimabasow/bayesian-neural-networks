{
 "cells": [
  {
   "cell_type": "code",
   "execution_count": 1,
   "metadata": {},
   "outputs": [],
   "source": [
    "import torch\n",
    "from sklearn.datasets import make_moons\n",
    "from matplotlib import pyplot as plt\n",
    "import seaborn as sns\n",
    "from src import BayesianBincaryClassifier"
   ]
  },
  {
   "cell_type": "code",
   "execution_count": 2,
   "metadata": {},
   "outputs": [],
   "source": [
    "x_train, y_train = make_moons(n_samples=100, noise=0.3, random_state=0)"
   ]
  },
  {
   "cell_type": "code",
   "execution_count": 3,
   "metadata": {},
   "outputs": [
    {
     "data": {
      "text/html": [
       "<div>\n",
       "<style scoped>\n",
       "    .dataframe tbody tr th:only-of-type {\n",
       "        vertical-align: middle;\n",
       "    }\n",
       "\n",
       "    .dataframe tbody tr th {\n",
       "        vertical-align: top;\n",
       "    }\n",
       "\n",
       "    .dataframe thead th {\n",
       "        text-align: right;\n",
       "    }\n",
       "</style>\n",
       "<table border=\"1\" class=\"dataframe\">\n",
       "  <thead>\n",
       "    <tr style=\"text-align: right;\">\n",
       "      <th></th>\n",
       "      <th>loss</th>\n",
       "      <th>p_item_average</th>\n",
       "    </tr>\n",
       "    <tr>\n",
       "      <th>epoch</th>\n",
       "      <th></th>\n",
       "      <th></th>\n",
       "    </tr>\n",
       "  </thead>\n",
       "  <tbody>\n",
       "    <tr>\n",
       "      <th>0</th>\n",
       "      <td>503.176422</td>\n",
       "      <td>0.000000e+00</td>\n",
       "    </tr>\n",
       "    <tr>\n",
       "      <th>1</th>\n",
       "      <td>151.179413</td>\n",
       "      <td>0.000000e+00</td>\n",
       "    </tr>\n",
       "    <tr>\n",
       "      <th>2</th>\n",
       "      <td>87.083878</td>\n",
       "      <td>1.513396e-38</td>\n",
       "    </tr>\n",
       "    <tr>\n",
       "      <th>3</th>\n",
       "      <td>39.036858</td>\n",
       "      <td>1.113033e-17</td>\n",
       "    </tr>\n",
       "    <tr>\n",
       "      <th>4</th>\n",
       "      <td>36.997234</td>\n",
       "      <td>8.556680e-17</td>\n",
       "    </tr>\n",
       "    <tr>\n",
       "      <th>...</th>\n",
       "      <td>...</td>\n",
       "      <td>...</td>\n",
       "    </tr>\n",
       "    <tr>\n",
       "      <th>995</th>\n",
       "      <td>0.509851</td>\n",
       "      <td>6.005851e-01</td>\n",
       "    </tr>\n",
       "    <tr>\n",
       "      <th>996</th>\n",
       "      <td>0.461222</td>\n",
       "      <td>6.305129e-01</td>\n",
       "    </tr>\n",
       "    <tr>\n",
       "      <th>997</th>\n",
       "      <td>0.522148</td>\n",
       "      <td>5.932450e-01</td>\n",
       "    </tr>\n",
       "    <tr>\n",
       "      <th>998</th>\n",
       "      <td>0.480533</td>\n",
       "      <td>6.184536e-01</td>\n",
       "    </tr>\n",
       "    <tr>\n",
       "      <th>999</th>\n",
       "      <td>0.525730</td>\n",
       "      <td>5.911235e-01</td>\n",
       "    </tr>\n",
       "  </tbody>\n",
       "</table>\n",
       "<p>1000 rows × 2 columns</p>\n",
       "</div>"
      ],
      "text/plain": [
       "             loss  p_item_average\n",
       "epoch                            \n",
       "0      503.176422    0.000000e+00\n",
       "1      151.179413    0.000000e+00\n",
       "2       87.083878    1.513396e-38\n",
       "3       39.036858    1.113033e-17\n",
       "4       36.997234    8.556680e-17\n",
       "...           ...             ...\n",
       "995      0.509851    6.005851e-01\n",
       "996      0.461222    6.305129e-01\n",
       "997      0.522148    5.932450e-01\n",
       "998      0.480533    6.184536e-01\n",
       "999      0.525730    5.911235e-01\n",
       "\n",
       "[1000 rows x 2 columns]"
      ]
     },
     "execution_count": 3,
     "metadata": {},
     "output_type": "execute_result"
    }
   ],
   "source": [
    "model = BayesianBincaryClassifier(\n",
    "    dim_in=2,\n",
    "    dim_hidden=15,\n",
    "    n_layers=5,\n",
    "    lr=0.1\n",
    ").cuda()\n",
    "\n",
    "x_train_tensor = torch.from_numpy(x_train).float().cuda()\n",
    "y_train_tensor = torch.from_numpy(y_train).view(-1, 1).float().cuda()\n",
    "\n",
    "model.fit(\n",
    "    x=x_train_tensor,\n",
    "    y=y_train_tensor,\n",
    ")\n",
    "model.df_metrics"
   ]
  },
  {
   "cell_type": "code",
   "execution_count": 4,
   "metadata": {},
   "outputs": [
    {
     "data": {
      "image/png": "[encoded data removed]",
      "text/plain": [
       "<Figure size 640x480 with 1 Axes>"
      ]
     },
     "metadata": {},
     "output_type": "display_data"
    }
   ],
   "source": [
    "X = x_train\n",
    "y = y_train\n",
    "# When the label y is 0, the class is represented with a blue square.\n",
    "# When the label y is 1, the class is represented with a green triangle.\n",
    "plt.plot(X[:, 0][y==1], X[:, 1][y==1], \"bs\")\n",
    "plt.plot(X[:, 0][y==0], X[:, 1][y==0], \"g^\")\n",
    "\n",
    "# X contains two features, x1 and x2\n",
    "plt.xlabel(r\"$x_1$\", fontsize=20)\n",
    "plt.ylabel(r\"$x_2$\", fontsize=20)\n",
    "\n",
    "# Simplifying the plot by removing the axis scales.\n",
    "plt.xticks([])\n",
    "plt.yticks([])\n",
    "\n",
    "# Displaying the plot.\n",
    "plt.show()"
   ]
  },
  {
   "cell_type": "code",
   "execution_count": 5,
   "metadata": {},
   "outputs": [],
   "source": [
    "model = model.eval().cpu()\n",
    "x_test, y_test = make_moons(n_samples=1000, noise=0.3, random_state=42)\n",
    "x_test_tensor = torch.from_numpy(x_test).float()\n",
    "y_test_tensor = torch.from_numpy(y_test).view(-1, 1).float()\n",
    "\n",
    "y_pred_test_tensor = torch.nn.Sigmoid()(model(x_test_tensor.expand(5000, 1000, 2)))"
   ]
  },
  {
   "cell_type": "code",
   "execution_count": 6,
   "metadata": {},
   "outputs": [],
   "source": [
    "y_pred_test = y_pred_test_tensor.cpu().detach().numpy()"
   ]
  },
  {
   "cell_type": "code",
   "execution_count": 7,
   "metadata": {},
   "outputs": [
    {
     "data": {
      "text/plain": [
       "<Axes: ylabel='Count'>"
      ]
     },
     "execution_count": 7,
     "metadata": {},
     "output_type": "execute_result"
    },
    {
     "data": {
      "image/png": "[encoded data removed]",
      "text/plain": [
       "<Figure size 640x480 with 1 Axes>"
      ]
     },
     "metadata": {},
     "output_type": "display_data"
    }
   ],
   "source": [
    "sns.histplot(data=y_pred_test[:, 1, 0])"
   ]
  },
  {
   "cell_type": "code",
   "execution_count": 8,
   "metadata": {},
   "outputs": [
    {
     "data": {
      "text/plain": [
       "np.float64(0.86)"
      ]
     },
     "execution_count": 8,
     "metadata": {},
     "output_type": "execute_result"
    }
   ],
   "source": [
    "((y_pred_test.mean(axis=0).reshape(-1) > 0.5).astype(\"int\") == y_test).sum() / len(y_test)"
   ]
  }
 ],
 "metadata": {
  "kernelspec": {
   "display_name": "Python 3",
   "language": "python",
   "name": "python3"
  },
  "language_info": {
   "codemirror_mode": {
    "name": "ipython",
    "version": 3
   },
   "file_extension": ".py",
   "mimetype": "text/x-python",
   "name": "python",
   "nbconvert_exporter": "python",
   "pygments_lexer": "ipython3",
   "version": "3.12.6"
  }
 },
 "nbformat": 4,
 "nbformat_minor": 2
}
